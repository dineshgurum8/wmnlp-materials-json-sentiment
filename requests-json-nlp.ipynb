{
 "cells": [
  {
   "cell_type": "markdown",
   "metadata": {},
   "source": [
    "# Web Mining and Applied NLP (44-620)\n",
    "\n",
    "## Requests, JSON, and NLP\n",
    "\n",
    "### Student Name: Dinesh Gurumoorthy\n",
    "### Github link: https://github.com/dineshgurum8/wmnlp-materials-json-sentiment/blob/master/requests-json-nlp.ipynb\n",
    "\n",
    "Perform the tasks described in the Markdown cells below.  When you have completed the assignment make sure your code cells have all been run (and have output beneath them) and ensure you have committed and pushed ALL of your changes to your assignment repository.\n",
    "\n",
    "Make sure you have [installed spaCy and its pipeline](https://spacy.io/usage#quickstart) and [spaCyTextBlob](https://spacy.io/universe/project/spacy-textblob)\n",
    "\n",
    "Every question that requires you to write code will have a code cell underneath it; you may either write your entire solution in that cell or write it in a python file (`.py`), then import and run the appropriate code to answer the question.\n",
    "\n",
    "This assignment requires that you write additional files (either JSON or pickle files); make sure to submit those files in your repository as well."
   ]
  },
  {
   "cell_type": "markdown",
   "metadata": {},
   "source": [
    "## Question 1"
   ]
  },
  {
   "cell_type": "markdown",
   "metadata": {},
   "source": [
    "1. The following code accesses the [lyrics.ovh](https://lyricsovh.docs.apiary.io/#reference/0/lyrics-of-a-song/search) public api, searches for the lyrics of a song, and stores it in a dictionary object.  Write the resulting json to a file (either a JSON file or a pickle file; you choose). You will read in the contents of this file for future questions so we do not need to frequently access the API."
   ]
  },
  {
   "cell_type": "code",
   "execution_count": 3,
   "metadata": {},
   "outputs": [
    {
     "name": "stdout",
     "output_type": "stream",
     "text": [
      "Lyrics saved to lyrics.json\n",
      "{'lyrics': \"I'm your only friend \\nI'm not your only friend \\nBut I'm a little glowing friend \\nBut really I'm not actually your friend \\nBut I am \\n\\n\\nBlue canary in the outlet by the light switch \\n\\nWho watches over you \\n\\nMake a little birdhouse in your soul \\n\\nNot to put too fine a point on it \\n\\nSay I'm the only bee in your bonnet \\n\\nMake a little birdhouse in your soul \\n\\n\\n\\nI have a secret to tell \\n\\nFrom my electrical well \\n\\nIt's a simple message and I'm leaving out the whistles and bells \\n\\nSo the room must listen to me \\n\\nFilibuster vigilantly \\n\\nMy name is blue canary one note* spelled l-i-t-e \\n\\nMy story's infinite \\n\\nLike the Longines Symphonette it doesn't rest \\n\\n\\n\\nBlue canary in the outlet by the light switch \\n\\nWho watches over you \\n\\nMake a little birdhouse in your soul \\n\\nNot to put too fine a point on it \\n\\nSay I'm the only bee in your bonnet \\n\\nMake a little birdhouse in your soul \\n\\n\\n\\nI'm your only friend \\n\\nI'm not your only friend \\n\\nBut I'm a little glowing friend \\n\\nBut really I'm not actually your friend \\n\\nBut I am \\n\\n\\n\\nThere's a picture opposite me \\n\\nOf my primitive ancestry \\n\\nWhich stood on rocky shores and kept the beaches shipwreck free \\n\\nThough I respect that a lot \\n\\nI'd be fired if that were my job \\n\\nAfter killing Jason off and countless screaming Argonauts \\n\\nBluebird of friendliness \\n\\nLike guardian angels its always near \\n\\n\\n\\nBlue canary in the outlet by the light switch \\n\\nWho watches over you \\n\\nMake a little birdhouse in your soul \\n\\nNot to put too fine a point on it \\n\\nSay I'm the only bee in your bonnet \\n\\nMake a little birdhouse in your soul \\n\\n\\n\\n(and while you're at it \\n\\nKeep the nightlight on inside the \\n\\nBirdhouse in your soul) \\n\\n\\n\\nNot to put too fine a point on it \\n\\nSay I'm the only bee in your bonnet \\n\\nMake a little birdhouse in your soul \\n\\n\\n\\nBlue canary in the outlet by the light switch (and while you're at it) \\n\\nWho watches over you (keep the nightlight on inside the) \\n\\nMake a little birdhouse in your soul (birdhouse in your soul) \\n\\n\\n\\nNot to put too fine a point on it \\n\\nSay I'm the only bee in your bonnet \\n\\nMake a little birdhouse in your soul \\n\\n\\n\\nBlue canary in the outlet by the light switch (and while you're at it) \\n\\nWho watches over you (keep the nightlight on inside the) \\n\\nMake a little birdhouse in your soul (birdhouse in your soul) \\n\\n\\n\\nNot to put too fine a point on it \\n\\nSay I'm the only bee in your bonnet \\n\\nMake a little birdhouse in your soul\"}\n"
     ]
    }
   ],
   "source": [
    "import requests\n",
    "import json\n",
    "\n",
    "# API endpoint\n",
    "url = 'https://api.lyrics.ovh/v1/They Might Be Giants/Birdhouse in your soul'\n",
    "\n",
    "# Make the API request\n",
    "response = requests.get(url)\n",
    "\n",
    "# Check for success\n",
    "if response.status_code == 200:\n",
    "    # Parse JSON response to dict\n",
    "    lyrics_data = response.json()\n",
    "\n",
    "    # Save JSON to file\n",
    "    with open('lyrics.json', 'w', encoding='utf-8') as f:\n",
    "        json.dump(lyrics_data, f, ensure_ascii=False, indent=2)\n",
    "\n",
    "    print(\"Lyrics saved to lyrics.json\")\n",
    "\n",
    "else:\n",
    "    print(f\"Failed to get lyrics: Status code {response.status_code}\")\n",
    "\n",
    "# Later, to read the lyrics back:\n",
    "\n",
    "with open('lyrics.json', 'r', encoding='utf-8') as f:\n",
    "    saved_lyrics = json.load(f)\n",
    "\n",
    "print(saved_lyrics)\n"
   ]
  },
  {
   "cell_type": "markdown",
   "metadata": {},
   "source": [
    "2. Read in the contents of your file.  Print the lyrics of the song (not the entire dictionary!) and use spaCyTextBlob to perform sentiment analysis on the lyrics.  Print the polarity score of the sentiment analysis.  Given that the range of the polarity score is `[-1.0,1.0]` which corresponds to how positive or negative the text in question is, do you think the lyrics have a more positive or negative connotaion?  Answer this question in a comment in your code cell."
   ]
  },
  {
   "cell_type": "code",
   "execution_count": null,
   "metadata": {},
   "outputs": [],
   "source": []
  },
  {
   "cell_type": "markdown",
   "metadata": {},
   "source": [
    "3. Write a function that takes an artist, song, and filename, accesses the lyrics.ovh api to get the song lyrics, and writes the results to the specified filename.  Test this function by getting the lyrics to any four songs of your choice and storing them in different files."
   ]
  },
  {
   "cell_type": "code",
   "execution_count": null,
   "metadata": {},
   "outputs": [],
   "source": []
  },
  {
   "cell_type": "markdown",
   "metadata": {},
   "source": [
    "4. Write a function that takes the name of a file that contains song lyrics, loads the file, performs sentiment analysis, and returns the polarity score.  Use this function to print the polarity scores (with the name of the song) of the three files you created in question 3.  Does the reported polarity match your understanding of the song's lyrics? Why or why not do you think that might be?  Answer the questions in either a comment in the code cell or a markdown cell under the code cell."
   ]
  },
  {
   "cell_type": "code",
   "execution_count": null,
   "metadata": {},
   "outputs": [],
   "source": []
  }
 ],
 "metadata": {
  "kernelspec": {
   "display_name": ".venv",
   "language": "python",
   "name": "python3"
  },
  "language_info": {
   "codemirror_mode": {
    "name": "ipython",
    "version": 3
   },
   "file_extension": ".py",
   "mimetype": "text/x-python",
   "name": "python",
   "nbconvert_exporter": "python",
   "pygments_lexer": "ipython3",
   "version": "3.11.9"
  }
 },
 "nbformat": 4,
 "nbformat_minor": 4
}
